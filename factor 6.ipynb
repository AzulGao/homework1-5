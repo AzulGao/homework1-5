{
 "cells": [
  {
   "cell_type": "markdown",
   "metadata": {},
   "source": [
    "第一个因子假设：SRMI10日均线上穿30日均线并且成交量增加为买入信号，10日均线下穿30日均线并且成交量增加为卖出信号，用周期为4H的EOSUSDT:binance做通用性检验。"
   ]
  },
  {
   "cell_type": "code",
   "execution_count": 1,
   "metadata": {},
   "outputs": [
    {
     "name": "stdout",
     "output_type": "stream",
     "text": [
      "6.246357202529907\n"
     ]
    }
   ],
   "source": [
    "import warnings\n",
    "\n",
    "warnings.filterwarnings('ignore')\n",
    "from jaqs_fxdayu.data.dataservice import LocalDataService\n",
    "from time import time\n",
    "ds = LocalDataService()\n",
    "start = time()\n",
    "path = r'.\\min_data\\VnTrader_1Min_Db'\n",
    "props = {'fields': 'open,high,low,close,volume',\n",
    "         'symbol': 'EOSUSDT:binance',\n",
    "         'freq': '1Min,5Min,15Min,30Min,1H,4H,6H,8H,12H',\n",
    "         'start_date':20180601000000}\n",
    "\n",
    "eos = ds.bar_reader(path,props) #读取数据\n",
    "print(time()-start)\n"
   ]
  },
  {
   "cell_type": "code",
   "execution_count": 2,
   "metadata": {},
   "outputs": [
    {
     "name": "stdout",
     "output_type": "stream",
     "text": [
      "Initialize dataview success.\n"
     ]
    }
   ],
   "source": [
    "from jaqs_fxdayu.data.hf_dataview import HFDataView\n",
    "\n",
    "dv2 = HFDataView()\n",
    "dv2.create_init_dv(eos['4H'].dropna().set_index([\"trade_date\",\"symbol\"]))\n",
    "\n",
    "SRMI2 = dv2.add_formula('SRMI_J', \"(close-Delay(close,10))/Max(close,Delay(close,10))\" ,add_data=True)"
   ]
  },
  {
   "cell_type": "code",
   "execution_count": 3,
   "metadata": {
    "collapsed": true
   },
   "outputs": [],
   "source": [
    "def TimingSignal(td, dv, long='long', short='short',closeLong='closeLong', closeShort='closeShort'\\\n",
    "                 , mhp=None,sl=None,sp=None):\n",
    "    # step 1：实例化TimingDigger 通过output_folder和output_format指定测试报告的输出路径和输出格式，通过signal_name指定绩效文件名称\n",
    "\n",
    "    #多空信号分别计算一遍 输出汇总结果\n",
    "    td.process_signal(\n",
    "        enter_signal=dv.get_ts(long),\n",
    "        exit_signal=dv.get_ts(closeLong),\n",
    "        sig_type=\"long\",  # 信号类型 long/short\n",
    "        price=dv.get_ts('close'),\n",
    "        max_holding_period=mhp,  # 最大持有天数 可为空\n",
    "        stoploss=-sl,  # 止损百分比 负数 可为空\n",
    "        stopprofit=sp,  # 止盈百分比 正数 可为空\n",
    "    )\n",
    "\n",
    "    td.process_signal(\n",
    "        enter_signal=dv.get_ts(short),\n",
    "        exit_signal=dv.get_ts(closeShort),\n",
    "        sig_type=\"short\",  # 信号类型 long/short\n",
    "        price=dv.get_ts(\"close\"),\n",
    "        max_holding_period=mhp,  # 最大持有天数 可为空\n",
    "        stoploss=-sl,  # 止损百分比 负数 可为空\n",
    "        stopprofit=sp,  # 止盈百分比 正数 可为空\n",
    "    )"
   ]
  },
  {
   "cell_type": "code",
   "execution_count": 4,
   "metadata": {
    "collapsed": true
   },
   "outputs": [],
   "source": [
    "# 进场信号\n",
    "long = dv2.add_formula(\"longSRMI\",\"If((Ts_Mean(SRMI_J,10)>Ts_Mean(SRMI_J,30)) && (Delay(Ts_Mean(SRMI_J,10),1)<=Delay(Ts_Mean(SRMI_J,30),1)) && Return(volume,1)>0,2,0)\", add_data=True)\n",
    "short = dv2.add_formula(\"shortSRMI\",\"If((Ts_Mean(SRMI_J,10)<Ts_Mean(SRMI_J,30)) && (Delay(Ts_Mean(SRMI_J,10),1)>=Delay(Ts_Mean(SRMI_J,30),1)) && Return(volume,1)>0,-2,0)\", add_data=True)\n",
    "\n",
    "# 出场信号\n",
    "close_long = dv2.add_formula(\"closeLongSRMI\",\"If(shortSRMI==-2,1,0)\", add_data=True)\n",
    "close_short = dv2.add_formula(\"closeShortSRMI\",\"If(longSRMI==2,-1,0)\", add_data=True)"
   ]
  },
  {
   "cell_type": "code",
   "execution_count": 5,
   "metadata": {},
   "outputs": [
    {
     "name": "stdout",
     "output_type": "stream",
     "text": [
      "Nan Data Count (should be zero) : 0;  Percentage of effective data: 3%\n",
      "Nan Data Count (should be zero) : 0;  Percentage of effective data: 3%\n"
     ]
    }
   ],
   "source": [
    "from jaqs_fxdayu.research import TimingDigger\n",
    "tdSRMI2 = TimingDigger(output_folder=\".\", output_format='pdf',signal_name='SRMI')\n",
    "TimingSignal(tdSRMI2, dv2,'longSRMI','shortSRMI','closeLongSRMI','closeShortSRMI', 100, 0.05, 0.3)"
   ]
  },
  {
   "cell_type": "code",
   "execution_count": 6,
   "metadata": {},
   "outputs": [
    {
     "name": "stdout",
     "output_type": "stream",
     "text": [
      "*****-Summary-*****\n",
      "Event Analysis\n",
      "                      win    loss     all\n",
      "t-stat              4.764  -6.122   0.445\n",
      "p-value             0.003   0.000   0.662\n",
      "mean                0.100  -0.054   0.009\n",
      "std                 0.051   0.026   0.085\n",
      "info_ratio          1.945  -2.041   0.111\n",
      "skewness           -0.433   0.099   0.569\n",
      "kurtosis           -1.163  -0.769  -1.139\n",
      "pct5                0.025  -0.090  -0.081\n",
      "pct25               0.062  -0.067  -0.061\n",
      "pct50               0.130  -0.059  -0.020\n",
      "pct75               0.133  -0.032   0.068\n",
      "pct95               0.157  -0.015   0.141\n",
      "occurance           7.000  10.000  17.000\n",
      "win_ratio             NaN     NaN   0.412\n",
      "win_mean/loss_mean    NaN     NaN   1.855\n"
     ]
    }
   ],
   "source": [
    "tdSRMI2.create_event_report(sig_type=\"long\")"
   ]
  },
  {
   "cell_type": "code",
   "execution_count": 7,
   "metadata": {},
   "outputs": [
    {
     "name": "stdout",
     "output_type": "stream",
     "text": [
      "*****-Summary-*****\n",
      "Event Analysis\n",
      "                       win   loss     all\n",
      "t-stat               4.313 -4.290   1.979\n",
      "p-value              0.002  0.008   0.065\n",
      "mean                 0.104 -0.053   0.049\n",
      "std                  0.077  0.028   0.099\n",
      "info_ratio           1.364 -1.919   0.495\n",
      "skewness             0.726  0.387   0.522\n",
      "kurtosis            -0.629 -0.060  -0.566\n",
      "pct5                 0.015 -0.088  -0.068\n",
      "pct25                0.052 -0.060  -0.049\n",
      "pct50                0.082 -0.055   0.037\n",
      "pct75                0.140 -0.050   0.097\n",
      "pct95                0.243 -0.014   0.238\n",
      "occurance           11.000  6.000  17.000\n",
      "win_ratio              NaN    NaN   0.647\n",
      "win_mean/loss_mean     NaN    NaN   1.965\n"
     ]
    }
   ],
   "source": [
    "tdSRMI2.create_event_report(sig_type=\"short\")"
   ]
  },
  {
   "cell_type": "code",
   "execution_count": 8,
   "metadata": {},
   "outputs": [
    {
     "name": "stdout",
     "output_type": "stream",
     "text": [
      "*****-Summary-*****\n",
      "Event Analysis\n",
      "                       win    loss     all\n",
      "t-stat               6.232  -7.718   1.778\n",
      "p-value              0.000   0.000   0.085\n",
      "mean                 0.103  -0.054   0.029\n",
      "std                  0.068   0.027   0.094\n",
      "info_ratio           1.511  -1.993   0.310\n",
      "skewness             0.597   0.219   0.599\n",
      "kurtosis            -0.342  -0.456  -0.585\n",
      "pct5                 0.012  -0.098  -0.083\n",
      "pct25                0.058  -0.065  -0.057\n",
      "pct50                0.090  -0.058   0.012\n",
      "pct75                0.134  -0.043   0.093\n",
      "pct95                0.237  -0.009   0.190\n",
      "occurance           18.000  16.000  34.000\n",
      "win_ratio              NaN     NaN   0.529\n",
      "win_mean/loss_mean     NaN     NaN   1.916\n"
     ]
    }
   ],
   "source": [
    "tdSRMI2.create_event_report(sig_type=\"long_short\")"
   ]
  },
  {
   "cell_type": "markdown",
   "metadata": {},
   "source": [
    "第二个因子假设：ROC6因子10日均线上穿20日均线并且成交量增加为买入信号，10日均线下穿20日均线并且成交量增加为卖出信号，用周期为4H的EOSUSDT:binance做通用性检验，对参数做了部分修改，改为10日均线上穿30日均线并且成交量增加为买入信号，10日均线下穿30日均线并且成交量增加为卖出信号。"
   ]
  },
  {
   "cell_type": "code",
   "execution_count": 9,
   "metadata": {
    "collapsed": true
   },
   "outputs": [],
   "source": [
    "ROC62 = dv2.add_formula('ROC6', '((close/Delay(close, 6))-1)*100', add_data=True)"
   ]
  },
  {
   "cell_type": "code",
   "execution_count": 10,
   "metadata": {
    "collapsed": true
   },
   "outputs": [],
   "source": [
    "# 进场信号\n",
    "long = dv2.add_formula(\"longROC6\",\"If((Ts_Mean(ROC6,10)>Ts_Mean(ROC6,30)) && (Delay(Ts_Mean(ROC6,10),1)<=Delay(Ts_Mean(ROC6,30),1)) && Return(volume,1)>0,2,0)\", add_data=True)\n",
    "short = dv2.add_formula(\"shortROC6\",\"If((Ts_Mean(ROC6,10)<Ts_Mean(ROC6,30)) && (Delay(Ts_Mean(ROC6,10),1)>=Delay(Ts_Mean(ROC6,30),1)) && Return(volume,1)>0,-2,0)\", add_data=True)\n",
    "\n",
    "# 出场信号\n",
    "close_long = dv2.add_formula(\"closeLongROC6\",\"If(shortROC6==-2,1,0)\", add_data=True)\n",
    "close_short = dv2.add_formula(\"closeShortROC6\",\"If(longROC6==2,-1,0)\", add_data=True)"
   ]
  },
  {
   "cell_type": "code",
   "execution_count": 11,
   "metadata": {},
   "outputs": [
    {
     "name": "stdout",
     "output_type": "stream",
     "text": [
      "Nan Data Count (should be zero) : 0;  Percentage of effective data: 3%\n",
      "Nan Data Count (should be zero) : 0;  Percentage of effective data: 3%\n"
     ]
    }
   ],
   "source": [
    "tdROC6_2 = TimingDigger(output_folder=\".\", output_format='pdf',signal_name='ROC6')\n",
    "TimingSignal(tdROC6_2, dv2,'longROC6','shortROC6','closeLongROC6','closeShortROC6', 100, 0.05, 0.3)"
   ]
  },
  {
   "cell_type": "code",
   "execution_count": 12,
   "metadata": {},
   "outputs": [
    {
     "name": "stdout",
     "output_type": "stream",
     "text": [
      "*****-Summary-*****\n",
      "Event Analysis\n",
      "                      win    loss     all\n",
      "t-stat              2.863  -7.522   0.239\n",
      "p-value             0.021   0.000   0.813\n",
      "mean                0.093  -0.052   0.005\n",
      "std                 0.092   0.025   0.093\n",
      "info_ratio          1.012  -2.086   0.051\n",
      "skewness            1.358   0.712   1.713\n",
      "kurtosis            1.053  -0.563   2.952\n",
      "pct5                0.003  -0.079  -0.073\n",
      "pct25               0.035  -0.067  -0.060\n",
      "pct50               0.057  -0.060  -0.025\n",
      "pct75               0.111  -0.035   0.044\n",
      "pct95               0.251  -0.006   0.151\n",
      "occurance           9.000  14.000  23.000\n",
      "win_ratio             NaN     NaN   0.391\n",
      "win_mean/loss_mean    NaN     NaN   1.789\n"
     ]
    }
   ],
   "source": [
    "tdROC6_2.create_event_report(sig_type=\"long\")"
   ]
  },
  {
   "cell_type": "code",
   "execution_count": 13,
   "metadata": {},
   "outputs": [
    {
     "name": "stdout",
     "output_type": "stream",
     "text": [
      "*****-Summary-*****\n",
      "Event Analysis\n",
      "                       win    loss     all\n",
      "t-stat               3.536  -6.244   1.624\n",
      "p-value              0.004   0.000   0.119\n",
      "mean                 0.098  -0.046   0.035\n",
      "std                  0.096   0.022   0.102\n",
      "info_ratio           1.021  -2.081   0.346\n",
      "skewness             0.923   0.738   1.204\n",
      "kurtosis            -0.378  -1.056   0.614\n",
      "pct5                 0.005  -0.066  -0.063\n",
      "pct25                0.015  -0.062  -0.049\n",
      "pct50                0.086  -0.056   0.006\n",
      "pct75                0.116  -0.029   0.089\n",
      "pct95                0.269  -0.009   0.242\n",
      "occurance           13.000  10.000  23.000\n",
      "win_ratio              NaN     NaN   0.565\n",
      "win_mean/loss_mean     NaN     NaN   2.140\n"
     ]
    }
   ],
   "source": [
    "tdROC6_2.create_event_report(sig_type=\"short\")"
   ]
  },
  {
   "cell_type": "code",
   "execution_count": 14,
   "metadata": {},
   "outputs": [
    {
     "name": "stdout",
     "output_type": "stream",
     "text": [
      "*****-Summary-*****\n",
      "Event Analysis\n",
      "                       win    loss     all\n",
      "t-stat               4.660  -9.888   1.359\n",
      "p-value              0.000   0.000   0.181\n",
      "mean                 0.096  -0.049   0.020\n",
      "std                  0.094   0.024   0.099\n",
      "info_ratio           1.017  -2.062   0.203\n",
      "skewness             1.091   0.658   1.418\n",
      "kurtosis             0.145  -0.719   1.500\n",
      "pct5                 0.005  -0.072  -0.069\n",
      "pct25                0.015  -0.063  -0.060\n",
      "pct50                0.074  -0.060  -0.004\n",
      "pct75                0.115  -0.026   0.061\n",
      "pct95                0.303  -0.006   0.237\n",
      "occurance           22.000  24.000  46.000\n",
      "win_ratio              NaN     NaN   0.478\n",
      "win_mean/loss_mean     NaN     NaN   1.940\n"
     ]
    }
   ],
   "source": [
    "tdROC6_2.create_event_report(sig_type=\"long_short\")"
   ]
  },
  {
   "cell_type": "code",
   "execution_count": null,
   "metadata": {
    "collapsed": true
   },
   "outputs": [],
   "source": []
  }
 ],
 "metadata": {
  "kernelspec": {
   "display_name": "Python 3",
   "language": "python",
   "name": "python3"
  },
  "language_info": {
   "codemirror_mode": {
    "name": "ipython",
    "version": 3
   },
   "file_extension": ".py",
   "mimetype": "text/x-python",
   "name": "python",
   "nbconvert_exporter": "python",
   "pygments_lexer": "ipython3",
   "version": "3.6.2"
  }
 },
 "nbformat": 4,
 "nbformat_minor": 2
}
